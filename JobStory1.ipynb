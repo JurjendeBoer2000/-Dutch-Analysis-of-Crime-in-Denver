{
 "cells": [
  {
   "cell_type": "markdown",
   "metadata": {},
   "source": [
    "# Business Understanding\n",
    "We hebben een dataset gekregen die bestaat uit strafbare feiten van de stad Denver van de afgelopen vijf jaar. De gegevens komen van het National Incident Based Reporting System (NIBRS). \n",
    "\n",
    "### User stories\n",
    "- Als gemeente wil ik een overzicht zien van het aantal misdaden per wijk zodat de politiecapaciteit beter verdeeld kan worden.\n",
    "    - Sortering van hoog naar laag (extra de wijk met het aantal meldingen)\n",
    "    - Per wijk het aantal misdaden.\n",
    "    - Heatmap groen weinig/ rood veel (vergeet niet de labels)\n",
    "    \n",
    "\n",
    "- Als gemeente wil ik per type misdaad zien in welke wijk deze het meest voor komen zodat dit type misdaden gericht aangepakt kunnen worden.\n",
    "    - Weergeven in een staafdiagram per type misdaad \n",
    "    - Uitschieters per type misdaad \n",
    "    - Het gemiddelde van de misdaden per het aantal inwoners in een wijk. \n",
    "\n",
    "\n",
    "- Als gemeente wil ik weten waar de meeste (top 5) verkeersincidenten plaatsvinden zodat er eventueel een aanpassing gemaakt kan worden in de infrastructuur.\n",
    "    - Op een kaart weergeven waar het incident plaats vindt. \n",
    "    - Op de kaart het aantal incidenten weergeven. \n",
    "    - Als geen top 5 uitkomt geef dan de wijk aan waar de meeste verkeersincidenten plaatsvinden \n",
    "    \n",
    "    \n",
    "- Als gemeente wil ik inzicht krijgen of de criminaliteit de afgelopen 5 jaar gestegen is met daarbij een voorspelling voor de komende 5 jaar zodat de gemeente weet of ze genoeg politiecapaciteit hebben voor de komende jaren. \n",
    "    - Berekend het aantal misdaden per jaar. \n",
    "    - Kijk goed naar wanneer er begonnen is met het registeren van de misdaden. \n",
    "    - Bereken de correlatiecoëfficiënt \n",
    "    - Geef het lineaire verband weer in een spreidingsdiagram met lijn \n",
    "    \n",
    "    \n",
    "- Als gemeente wil ik inzicht in per type misdaad of deze in bepaalde seizoenen meer voor voorkomen dan in andere seizoenen zodat de gemeente de politie voortijdig kan voorbereiden. \n",
    "    - Per seizoen het aantal misdaden per type misdaad in een lijndiagram. \n",
    "    \n",
    "\n",
    "\n",
    "# Data Understanding"
   ]
  },
  {
   "cell_type": "code",
   "execution_count": 2,
   "metadata": {},
   "outputs": [],
   "source": [
    "# importeer je packages\n",
    "import pandas as pd\n",
    "import seaborn as sns\n",
    "from sklearn.cluster import KMeans\n",
    "import numpy as np\n",
    "import matplotlib.pyplot as plt"
   ]
  },
  {
   "cell_type": "markdown",
   "metadata": {},
   "source": [
    "## Collect initial data\n",
    "De data is aan ons aangeleverd in de vorm van twee .csv bestanden. Deze zijn met elkaar gekoppeld aan de hand van de identieke kolomnamen ‘offense_code’. Andere interessante gegevens zijn de datum en plaats waar en wanneer het strafbare feit is gepleegd. Met name de verkeersincidenten zijn in Denver erg hoog, we zullen specifiek voor de verkeersincidenten extra analyses doen."
   ]
  },
  {
   "cell_type": "code",
   "execution_count": 26,
   "metadata": {},
   "outputs": [],
   "source": [
    "df_crime = pd.read_csv('crime.csv', parse_dates=[\n",
    "    'FIRST_OCCURRENCE_DATE',\n",
    "    'LAST_OCCURRENCE_DATE',\n",
    "    'REPORTED_DATE'\n",
    "], dtype={\n",
    "    'IS_CRIME': 'bool',\n",
    "    'IS_TRAFFIC': 'bool'\n",
    "})\n",
    "df_offense_codes = pd.read_csv('offense_codes.csv')"
   ]
  },
  {
   "cell_type": "markdown",
   "metadata": {},
   "source": [
    "## Describe data"
   ]
  },
  {
   "cell_type": "code",
   "execution_count": 27,
   "metadata": {},
   "outputs": [
    {
     "name": "stdout",
     "output_type": "stream",
     "text": [
      "<class 'pandas.core.frame.DataFrame'>\n",
      "RangeIndex: 454540 entries, 0 to 454539\n",
      "Data columns (total 19 columns):\n",
      " #   Column                  Non-Null Count   Dtype         \n",
      "---  ------                  --------------   -----         \n",
      " 0   INCIDENT_ID             454540 non-null  int64         \n",
      " 1   OFFENSE_ID              454540 non-null  int64         \n",
      " 2   OFFENSE_CODE            454540 non-null  int64         \n",
      " 3   OFFENSE_CODE_EXTENSION  454540 non-null  int64         \n",
      " 4   OFFENSE_TYPE_ID         454540 non-null  object        \n",
      " 5   OFFENSE_CATEGORY_ID     454540 non-null  object        \n",
      " 6   FIRST_OCCURRENCE_DATE   454540 non-null  datetime64[ns]\n",
      " 7   LAST_OCCURRENCE_DATE    152118 non-null  datetime64[ns]\n",
      " 8   REPORTED_DATE           454540 non-null  datetime64[ns]\n",
      " 9   INCIDENT_ADDRESS        414371 non-null  object        \n",
      " 10  GEO_X                   450607 non-null  float64       \n",
      " 11  GEO_Y                   450607 non-null  float64       \n",
      " 12  GEO_LON                 450606 non-null  float64       \n",
      " 13  GEO_LAT                 450606 non-null  float64       \n",
      " 14  DISTRICT_ID             454539 non-null  float64       \n",
      " 15  PRECINCT_ID             454539 non-null  float64       \n",
      " 16  NEIGHBORHOOD_ID         454539 non-null  object        \n",
      " 17  IS_CRIME                454540 non-null  bool          \n",
      " 18  IS_TRAFFIC              454540 non-null  bool          \n",
      "dtypes: bool(2), datetime64[ns](3), float64(6), int64(4), object(4)\n",
      "memory usage: 59.8+ MB\n"
     ]
    }
   ],
   "source": [
    "df_crime.info()"
   ]
  },
  {
   "cell_type": "markdown",
   "metadata": {},
   "source": [
    "0. **INCIDENT_ID :** Bestaat uit een combinatie van INCIDENT_ID, OFFENSE_CODE en OFFENSE_CODE_EXTENSION. Dit zorgt ervoor dat iedere overtreding uniek identificeerbaar is.\n",
    "1. **OFFENSE_ID:** Unieke integer voor iedere melding. Zo kan het bijvoorbeeld voorkomen dat er meerdere overtredingen worden gepleegd per melding\n",
    "2. **OFFENSE_CODE:** De code waarmee verwezen wordt naar een algemene soort overtreding. In combinatie met\n",
    "3. **OFFENSE_CODE_EXTENSION:** kan het specifieke misdrijf worden achterhaald.Een uitbreiding op OFFENSE_CODE. Geeft een specifiek misdrijf aan (ander CSV-bestand).\n",
    "4. **OFFENSE_TYPE_ID:** Geeft de naam van het misdrijf weer. Bijvoorbeeld een aanrijding onder invloed, heroïnegebruik, etc.\n",
    "5. **OFFENSE_CATEGORY_ID:** Geeft de basisnaam van het misdrijf weer. Een generalisatie van OFFENSE_TYPE_ID. Zo valt het gebruik van zowel heroïne als wiet onder het algemene misdrijf ‘drugsgebruik’.\n",
    "6. **FIRST_OCCURRENCE_DATE:** De eerst mogelijk datum van het incident.\n",
    "7. **LAST_OCCURRENCE_DATE:** als de FIRST_OCCURRENCE_DATE en de LAST_OCCURRENCE_DATE kolommen beide zijn ingevulgd dan is er een schatting gemaakt van het incident\n",
    "8. **REPORTED_DATE:** datum waarop het delict werd gerapporteerd\n",
    "9. **INCIDENT_ADDRESS:** de straat waar het incident heeft plaats gevonden. Deze kolom is niet altijd ingevuld in verband met privacy.\n",
    "10. **GEO_X:** Geografische coördinaten\n",
    "11. **GEO_Y:** GEO_Y\n",
    "12. **GEO_LON:** lengtegraad\n",
    "13. **GEO_LAT:** breedtegraad\n",
    "14. **DISTRICT_ID:** Afgebakend geografisch gebied in Denver.\n",
    "15. **PRECINCT_ID:** Het id van het gebied waar het incident is afgerond?\n",
    "16. **NEIGHBORHOOD_ID:** buurt waarin het delict plaatsvond\n",
    "17. **IS_CRIME:** Was het incident een misdaad?\n",
    "18. **IS_TRAFFIC:** Was het incident een verkeersincident?\n",
    "\n",
    "Wat ons opvalt aan kolommen waarin een datum hoort te staat dat ze van het type object zijn. Wij hebben bij het inporteren van het CSV-bestand dan ook het type aangepast naar een date. Daarnaast hebben wij de kolommen van IS_CRIME en IS_TRAFFIC aangepast naar een boolean."
   ]
  },
  {
   "cell_type": "code",
   "execution_count": 28,
   "metadata": {},
   "outputs": [
    {
     "data": {
      "text/html": [
       "<div>\n",
       "<style scoped>\n",
       "    .dataframe tbody tr th:only-of-type {\n",
       "        vertical-align: middle;\n",
       "    }\n",
       "\n",
       "    .dataframe tbody tr th {\n",
       "        vertical-align: top;\n",
       "    }\n",
       "\n",
       "    .dataframe thead th {\n",
       "        text-align: right;\n",
       "    }\n",
       "</style>\n",
       "<table border=\"1\" class=\"dataframe\">\n",
       "  <thead>\n",
       "    <tr style=\"text-align: right;\">\n",
       "      <th></th>\n",
       "      <th>count</th>\n",
       "      <th>mean</th>\n",
       "      <th>std</th>\n",
       "      <th>min</th>\n",
       "      <th>25%</th>\n",
       "      <th>50%</th>\n",
       "      <th>75%</th>\n",
       "      <th>max</th>\n",
       "    </tr>\n",
       "  </thead>\n",
       "  <tbody>\n",
       "    <tr>\n",
       "      <th>INCIDENT_ID</th>\n",
       "      <td>454540.0</td>\n",
       "      <td>4.207075e+09</td>\n",
       "      <td>1.457081e+10</td>\n",
       "      <td>2.019600e+04</td>\n",
       "      <td>2.016748e+09</td>\n",
       "      <td>2.018438e+09</td>\n",
       "      <td>2.020122e+09</td>\n",
       "      <td>2.020890e+12</td>\n",
       "    </tr>\n",
       "    <tr>\n",
       "      <th>OFFENSE_ID</th>\n",
       "      <td>454540.0</td>\n",
       "      <td>4.207075e+15</td>\n",
       "      <td>1.457081e+16</td>\n",
       "      <td>2.019652e+10</td>\n",
       "      <td>2.016748e+15</td>\n",
       "      <td>2.018438e+15</td>\n",
       "      <td>2.020122e+15</td>\n",
       "      <td>2.020890e+18</td>\n",
       "    </tr>\n",
       "    <tr>\n",
       "      <th>OFFENSE_CODE</th>\n",
       "      <td>454540.0</td>\n",
       "      <td>3.715744e+03</td>\n",
       "      <td>1.647371e+03</td>\n",
       "      <td>9.020000e+02</td>\n",
       "      <td>2.305000e+03</td>\n",
       "      <td>2.999000e+03</td>\n",
       "      <td>5.441000e+03</td>\n",
       "      <td>7.399000e+03</td>\n",
       "    </tr>\n",
       "    <tr>\n",
       "      <th>OFFENSE_CODE_EXTENSION</th>\n",
       "      <td>454540.0</td>\n",
       "      <td>2.070577e-01</td>\n",
       "      <td>5.784915e-01</td>\n",
       "      <td>0.000000e+00</td>\n",
       "      <td>0.000000e+00</td>\n",
       "      <td>0.000000e+00</td>\n",
       "      <td>0.000000e+00</td>\n",
       "      <td>5.000000e+00</td>\n",
       "    </tr>\n",
       "    <tr>\n",
       "      <th>GEO_X</th>\n",
       "      <td>450607.0</td>\n",
       "      <td>3.165068e+06</td>\n",
       "      <td>7.114081e+05</td>\n",
       "      <td>1.000000e+00</td>\n",
       "      <td>3.138868e+06</td>\n",
       "      <td>3.145749e+06</td>\n",
       "      <td>3.163062e+06</td>\n",
       "      <td>4.067477e+07</td>\n",
       "    </tr>\n",
       "    <tr>\n",
       "      <th>GEO_Y</th>\n",
       "      <td>450607.0</td>\n",
       "      <td>1.695826e+06</td>\n",
       "      <td>2.323741e+05</td>\n",
       "      <td>1.000000e+00</td>\n",
       "      <td>1.683238e+06</td>\n",
       "      <td>1.694794e+06</td>\n",
       "      <td>1.701977e+06</td>\n",
       "      <td>1.046707e+08</td>\n",
       "    </tr>\n",
       "    <tr>\n",
       "      <th>GEO_LON</th>\n",
       "      <td>450606.0</td>\n",
       "      <td>-1.049235e+02</td>\n",
       "      <td>1.985000e+00</td>\n",
       "      <td>-1.154641e+02</td>\n",
       "      <td>-1.050062e+02</td>\n",
       "      <td>-1.049818e+02</td>\n",
       "      <td>-1.049203e+02</td>\n",
       "      <td>5.000000e-07</td>\n",
       "    </tr>\n",
       "    <tr>\n",
       "      <th>GEO_LAT</th>\n",
       "      <td>450606.0</td>\n",
       "      <td>3.971875e+01</td>\n",
       "      <td>7.516972e-01</td>\n",
       "      <td>0.000000e+00</td>\n",
       "      <td>3.970800e+01</td>\n",
       "      <td>3.973981e+01</td>\n",
       "      <td>3.975958e+01</td>\n",
       "      <td>3.990431e+01</td>\n",
       "    </tr>\n",
       "    <tr>\n",
       "      <th>DISTRICT_ID</th>\n",
       "      <td>454539.0</td>\n",
       "      <td>3.528043e+00</td>\n",
       "      <td>1.782229e+00</td>\n",
       "      <td>1.000000e+00</td>\n",
       "      <td>2.000000e+00</td>\n",
       "      <td>3.000000e+00</td>\n",
       "      <td>5.000000e+00</td>\n",
       "      <td>7.000000e+00</td>\n",
       "    </tr>\n",
       "    <tr>\n",
       "      <th>PRECINCT_ID</th>\n",
       "      <td>454539.0</td>\n",
       "      <td>3.703956e+02</td>\n",
       "      <td>1.790605e+02</td>\n",
       "      <td>1.110000e+02</td>\n",
       "      <td>2.210000e+02</td>\n",
       "      <td>3.230000e+02</td>\n",
       "      <td>5.210000e+02</td>\n",
       "      <td>7.590000e+02</td>\n",
       "    </tr>\n",
       "  </tbody>\n",
       "</table>\n",
       "</div>"
      ],
      "text/plain": [
       "                           count          mean           std           min  \\\n",
       "INCIDENT_ID             454540.0  4.207075e+09  1.457081e+10  2.019600e+04   \n",
       "OFFENSE_ID              454540.0  4.207075e+15  1.457081e+16  2.019652e+10   \n",
       "OFFENSE_CODE            454540.0  3.715744e+03  1.647371e+03  9.020000e+02   \n",
       "OFFENSE_CODE_EXTENSION  454540.0  2.070577e-01  5.784915e-01  0.000000e+00   \n",
       "GEO_X                   450607.0  3.165068e+06  7.114081e+05  1.000000e+00   \n",
       "GEO_Y                   450607.0  1.695826e+06  2.323741e+05  1.000000e+00   \n",
       "GEO_LON                 450606.0 -1.049235e+02  1.985000e+00 -1.154641e+02   \n",
       "GEO_LAT                 450606.0  3.971875e+01  7.516972e-01  0.000000e+00   \n",
       "DISTRICT_ID             454539.0  3.528043e+00  1.782229e+00  1.000000e+00   \n",
       "PRECINCT_ID             454539.0  3.703956e+02  1.790605e+02  1.110000e+02   \n",
       "\n",
       "                                 25%           50%           75%           max  \n",
       "INCIDENT_ID             2.016748e+09  2.018438e+09  2.020122e+09  2.020890e+12  \n",
       "OFFENSE_ID              2.016748e+15  2.018438e+15  2.020122e+15  2.020890e+18  \n",
       "OFFENSE_CODE            2.305000e+03  2.999000e+03  5.441000e+03  7.399000e+03  \n",
       "OFFENSE_CODE_EXTENSION  0.000000e+00  0.000000e+00  0.000000e+00  5.000000e+00  \n",
       "GEO_X                   3.138868e+06  3.145749e+06  3.163062e+06  4.067477e+07  \n",
       "GEO_Y                   1.683238e+06  1.694794e+06  1.701977e+06  1.046707e+08  \n",
       "GEO_LON                -1.050062e+02 -1.049818e+02 -1.049203e+02  5.000000e-07  \n",
       "GEO_LAT                 3.970800e+01  3.973981e+01  3.975958e+01  3.990431e+01  \n",
       "DISTRICT_ID             2.000000e+00  3.000000e+00  5.000000e+00  7.000000e+00  \n",
       "PRECINCT_ID             2.210000e+02  3.230000e+02  5.210000e+02  7.590000e+02  "
      ]
     },
     "execution_count": 28,
     "metadata": {},
     "output_type": "execute_result"
    }
   ],
   "source": [
    "df_crime.describe().transpose()"
   ]
  },
  {
   "cell_type": "markdown",
   "metadata": {},
   "source": [
    "Wat kunnen afleiden uit de volgende tabel:\n",
    "- Er zijn **454545** incident meldingen geregisteerd."
   ]
  },
  {
   "cell_type": "markdown",
   "metadata": {},
   "source": [
    "### Explore data"
   ]
  },
  {
   "cell_type": "code",
   "execution_count": 30,
   "metadata": {},
   "outputs": [],
   "source": [
    "#"
   ]
  },
  {
   "cell_type": "markdown",
   "metadata": {},
   "source": [
    "# Data Preparation\n",
    "## Select Data\n",
    "beschrijf hier de kolommen die je gaat gebruiken om de user story te beantwoorden.\n",
    "\n",
    "## Clean data\n",
    "is in de meeste gevallen van de user stories niet aan de order\n",
    "\n",
    "## Integrate Data\n",
    "indien je meer de twee verschillende bestanden gaat gebruiken koppel die dan hier.\n",
    "\n",
    "## Format Data\n",
    "indien je andere eenheden gaat gebruiken pas het dan onder deze fase aan.\n"
   ]
  },
  {
   "cell_type": "markdown",
   "metadata": {},
   "source": [
    "# Modeling"
   ]
  },
  {
   "cell_type": "code",
   "execution_count": null,
   "metadata": {},
   "outputs": [],
   "source": [
    "# hier werk je de user story uit."
   ]
  },
  {
   "cell_type": "markdown",
   "metadata": {},
   "source": [
    "# Evaluation\n",
    "**Vul dit stuk aan: wat betekenen deze resultaten in het licht van de originele Business Understanding?**"
   ]
  }
 ],
 "metadata": {
  "kernelspec": {
   "display_name": "Python 3",
   "language": "python",
   "name": "python3"
  },
  "language_info": {
   "codemirror_mode": {
    "name": "ipython",
    "version": 3
   },
   "file_extension": ".py",
   "mimetype": "text/x-python",
   "name": "python",
   "nbconvert_exporter": "python",
   "pygments_lexer": "ipython3",
   "version": "3.8.5"
  }
 },
 "nbformat": 4,
 "nbformat_minor": 4
}
