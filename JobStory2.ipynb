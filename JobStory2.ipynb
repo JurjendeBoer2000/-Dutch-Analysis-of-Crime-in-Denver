{
 "cells": [
  {
   "cell_type": "markdown",
   "metadata": {},
   "source": [
    "# Business Understanding\n",
    "Recent heeft de gemeente Denver een initiatief gestart om de veiligheid van haar stad te verbeteren door haar keuzes te maken onderbouwd op data. Zij zijn in specifiek geïnteresseerd in hoe de verkeersveiligheid en het politiekorps slimmer en meer efficiënt kan worden ingezet.\n",
    "\n",
    "In dit verslag gaan wij onderzoeken welke type misdaad er het vaakst voorkomt in een gegeven wijk zodat dit type misdaad gericht aangepakt kan worden. De bijhorende user story staat hieronder weergegeven.\n",
    "\n",
    "- Als gemeente wil ik per type misdaad zien in welke wijk deze het meest voor komen, zodat dit type misdaden gericht aangepakt kunnen worden.\n",
    "    - Weergeven in een staafdiagram per type misdaad\n",
    "    - Uitschieters per type misdaad\n",
    "    - Het gemiddelde van de misdaden per het aantal inwoners in een wijk.\n",
    "\n",
    "# Data Understanding\n",
    "We hebben een dataset gekregen die bestaat uit incidenten van de stad Denver van de afgelopen vijf jaar. De gegevens komen van het National Incident Based Reporting System (NIBRS)."
   ]
  },
  {
   "cell_type": "code",
   "execution_count": 35,
   "metadata": {},
   "outputs": [],
   "source": [
    "# Importeren van benodigde packages\n",
    "import pandas as pd\n",
    "import seaborn as sns\n",
    "import matplotlib.pyplot as plt\n",
    "import matplotlib as mpl\n",
    "import json\n",
    "import folium\n",
    "\n",
    "# Dit zijn wat parameters die de kleuren van plotjes aanpassen. Alleen als je gebruik maakt van PyCharm zijn deze nodig.\n",
    "mpl.rcParams['text.color'] = \"#000\"\n",
    "mpl.rcParams['axes.labelcolor'] = \"#fff\"\n",
    "mpl.rcParams['xtick.color'] = \"#fff\"\n",
    "mpl.rcParams['ytick.color'] = \"#fff\"\n",
    "mpl.rcParams['figure.dpi'] = 120\n",
    "mpl.rcParams['figure.autolayout'] = False\n",
    "mpl.rcParams['font.size'] = 12\n",
    "\n",
    "sns.set_style('white')"
   ]
  },
  {
   "cell_type": "markdown",
   "metadata": {},
   "source": [
    "## Collect initial data\n",
    "De data is aan ons aangeleverd in de vorm van twee CSV-bestanden. Deze zijn met elkaar gekoppeld aan de hand van de identieke kolomnamen ‘offense_code’. Andere interessante gegevens zijn de datum en plaats waar en wanneer het strafbare feit is gepleegd."
   ]
  },
  {
   "cell_type": "code",
   "execution_count": 36,
   "metadata": {},
   "outputs": [],
   "source": [
    "df_crime = pd.read_csv('crime.csv', parse_dates=[\n",
    "    'FIRST_OCCURRENCE_DATE',\n",
    "    'LAST_OCCURRENCE_DATE',\n",
    "    'REPORTED_DATE'\n",
    "], dtype={\n",
    "    'IS_CRIME': 'bool',\n",
    "    'IS_TRAFFIC': 'bool'\n",
    "})"
   ]
  },
  {
   "cell_type": "markdown",
   "metadata": {},
   "source": [
    "## Describe data\n",
    "\n",
    "0. **INCIDENT_ID :** Bestaat uit een combinatie van INCIDENT_ID, OFFENSE_CODE en OFFENSE_CODE_EXTENSION. Dit zorgt ervoor dat iedere overtreding uniek identificeerbaar is.\n",
    "1. **OFFENSE_ID:** Unieke integer voor iedere melding. Zo kan het bijvoorbeeld voorkomen dat er meerdere overtredingen worden gepleegd per melding\n",
    "2. **OFFENSE_CODE:** De code waarmee verwezen wordt naar een algemene soort overtreding. In combinatie met\n",
    "3. **OFFENSE_CODE_EXTENSION:** kan het specifieke misdrijf worden achterhaald.Een uitbreiding op OFFENSE_CODE. Geeft een specifiek misdrijf aan (ander CSV-bestand).\n",
    "4. **OFFENSE_TYPE_ID:** Geeft de naam van het misdrijf weer. Bijvoorbeeld een aanrijding onder invloed, heroïnegebruik, etc.\n",
    "5. **OFFENSE_CATEGORY_ID:** Geeft de basisnaam van het misdrijf weer. Een generalisatie van OFFENSE_TYPE_ID. Zo valt het gebruik van zowel heroïne als wiet onder het algemene misdrijf ‘drugsgebruik’.\n",
    "6. **FIRST_OCCURRENCE_DATE:** De eerst mogelijk datum van het incident.\n",
    "7. **LAST_OCCURRENCE_DATE:** als de FIRST_OCCURRENCE_DATE en de LAST_OCCURRENCE_DATE kolommen beide zijn ingevulgd dan is er een schatting gemaakt van het incident\n",
    "8. **REPORTED_DATE:** datum waarop het delict werd gerapporteerd\n",
    "9. **INCIDENT_ADDRESS:** de straat waar het incident heeft plaats gevonden. Deze kolom is niet altijd ingevuld in verband met privacy.\n",
    "10. **GEO_X:** Geografische coördinaten\n",
    "11. **GEO_Y:** Geografische coördinaten\n",
    "12. **GEO_LON:** lengtegraad\n",
    "13. **GEO_LAT:** breedtegraad\n",
    "14. **DISTRICT_ID:** Afgebakend geografisch gebied in Denver.\n",
    "15. **PRECINCT_ID:** Het id van het gebied waar het incident is afgerond?\n",
    "16. **NEIGHBORHOOD_ID:** buurt waarin het delict plaatsvond\n",
    "17. **IS_CRIME:** Was het incident een misdaad?\n",
    "18. **IS_TRAFFIC:** Was het incident een verkeersincident?\n",
    "\n",
    "Wat ons opvalt aan kolommen waarin een datum hoort te staan, is dat ze van het type object zijn. Wij hebben bij het importeren van het CSV-bestand dan ook het type aangepast naar een date. Daarnaast hebben wij de kolommen van IS_CRIME en IS_TRAFFIC aangepast naar een boolean."
   ]
  },
  {
   "cell_type": "code",
   "execution_count": 37,
   "metadata": {},
   "outputs": [
    {
     "data": {
      "text/plain": "                           count          mean           std           min  \\\nINCIDENT_ID             454540.0  4.207075e+09  1.457081e+10  2.019600e+04   \nOFFENSE_ID              454540.0  4.207075e+15  1.457081e+16  2.019652e+10   \nOFFENSE_CODE            454540.0  3.715744e+03  1.647371e+03  9.020000e+02   \nOFFENSE_CODE_EXTENSION  454540.0  2.070577e-01  5.784915e-01  0.000000e+00   \nGEO_X                   450607.0  3.165068e+06  7.114081e+05  1.000000e+00   \nGEO_Y                   450607.0  1.695826e+06  2.323741e+05  1.000000e+00   \nGEO_LON                 450606.0 -1.049235e+02  1.985000e+00 -1.154641e+02   \nGEO_LAT                 450606.0  3.971875e+01  7.516972e-01  0.000000e+00   \nDISTRICT_ID             454539.0  3.528043e+00  1.782229e+00  1.000000e+00   \nPRECINCT_ID             454539.0  3.703956e+02  1.790605e+02  1.110000e+02   \n\n                                 25%           50%           75%           max  \nINCIDENT_ID             2.016748e+09  2.018438e+09  2.020122e+09  2.020890e+12  \nOFFENSE_ID              2.016748e+15  2.018438e+15  2.020122e+15  2.020890e+18  \nOFFENSE_CODE            2.305000e+03  2.999000e+03  5.441000e+03  7.399000e+03  \nOFFENSE_CODE_EXTENSION  0.000000e+00  0.000000e+00  0.000000e+00  5.000000e+00  \nGEO_X                   3.138868e+06  3.145749e+06  3.163062e+06  4.067477e+07  \nGEO_Y                   1.683238e+06  1.694794e+06  1.701977e+06  1.046707e+08  \nGEO_LON                -1.050062e+02 -1.049818e+02 -1.049203e+02  5.000000e-07  \nGEO_LAT                 3.970800e+01  3.973981e+01  3.975958e+01  3.990431e+01  \nDISTRICT_ID             2.000000e+00  3.000000e+00  5.000000e+00  7.000000e+00  \nPRECINCT_ID             2.210000e+02  3.230000e+02  5.210000e+02  7.590000e+02  ",
      "text/html": "<div>\n<style scoped>\n    .dataframe tbody tr th:only-of-type {\n        vertical-align: middle;\n    }\n\n    .dataframe tbody tr th {\n        vertical-align: top;\n    }\n\n    .dataframe thead th {\n        text-align: right;\n    }\n</style>\n<table border=\"1\" class=\"dataframe\">\n  <thead>\n    <tr style=\"text-align: right;\">\n      <th></th>\n      <th>count</th>\n      <th>mean</th>\n      <th>std</th>\n      <th>min</th>\n      <th>25%</th>\n      <th>50%</th>\n      <th>75%</th>\n      <th>max</th>\n    </tr>\n  </thead>\n  <tbody>\n    <tr>\n      <th>INCIDENT_ID</th>\n      <td>454540.0</td>\n      <td>4.207075e+09</td>\n      <td>1.457081e+10</td>\n      <td>2.019600e+04</td>\n      <td>2.016748e+09</td>\n      <td>2.018438e+09</td>\n      <td>2.020122e+09</td>\n      <td>2.020890e+12</td>\n    </tr>\n    <tr>\n      <th>OFFENSE_ID</th>\n      <td>454540.0</td>\n      <td>4.207075e+15</td>\n      <td>1.457081e+16</td>\n      <td>2.019652e+10</td>\n      <td>2.016748e+15</td>\n      <td>2.018438e+15</td>\n      <td>2.020122e+15</td>\n      <td>2.020890e+18</td>\n    </tr>\n    <tr>\n      <th>OFFENSE_CODE</th>\n      <td>454540.0</td>\n      <td>3.715744e+03</td>\n      <td>1.647371e+03</td>\n      <td>9.020000e+02</td>\n      <td>2.305000e+03</td>\n      <td>2.999000e+03</td>\n      <td>5.441000e+03</td>\n      <td>7.399000e+03</td>\n    </tr>\n    <tr>\n      <th>OFFENSE_CODE_EXTENSION</th>\n      <td>454540.0</td>\n      <td>2.070577e-01</td>\n      <td>5.784915e-01</td>\n      <td>0.000000e+00</td>\n      <td>0.000000e+00</td>\n      <td>0.000000e+00</td>\n      <td>0.000000e+00</td>\n      <td>5.000000e+00</td>\n    </tr>\n    <tr>\n      <th>GEO_X</th>\n      <td>450607.0</td>\n      <td>3.165068e+06</td>\n      <td>7.114081e+05</td>\n      <td>1.000000e+00</td>\n      <td>3.138868e+06</td>\n      <td>3.145749e+06</td>\n      <td>3.163062e+06</td>\n      <td>4.067477e+07</td>\n    </tr>\n    <tr>\n      <th>GEO_Y</th>\n      <td>450607.0</td>\n      <td>1.695826e+06</td>\n      <td>2.323741e+05</td>\n      <td>1.000000e+00</td>\n      <td>1.683238e+06</td>\n      <td>1.694794e+06</td>\n      <td>1.701977e+06</td>\n      <td>1.046707e+08</td>\n    </tr>\n    <tr>\n      <th>GEO_LON</th>\n      <td>450606.0</td>\n      <td>-1.049235e+02</td>\n      <td>1.985000e+00</td>\n      <td>-1.154641e+02</td>\n      <td>-1.050062e+02</td>\n      <td>-1.049818e+02</td>\n      <td>-1.049203e+02</td>\n      <td>5.000000e-07</td>\n    </tr>\n    <tr>\n      <th>GEO_LAT</th>\n      <td>450606.0</td>\n      <td>3.971875e+01</td>\n      <td>7.516972e-01</td>\n      <td>0.000000e+00</td>\n      <td>3.970800e+01</td>\n      <td>3.973981e+01</td>\n      <td>3.975958e+01</td>\n      <td>3.990431e+01</td>\n    </tr>\n    <tr>\n      <th>DISTRICT_ID</th>\n      <td>454539.0</td>\n      <td>3.528043e+00</td>\n      <td>1.782229e+00</td>\n      <td>1.000000e+00</td>\n      <td>2.000000e+00</td>\n      <td>3.000000e+00</td>\n      <td>5.000000e+00</td>\n      <td>7.000000e+00</td>\n    </tr>\n    <tr>\n      <th>PRECINCT_ID</th>\n      <td>454539.0</td>\n      <td>3.703956e+02</td>\n      <td>1.790605e+02</td>\n      <td>1.110000e+02</td>\n      <td>2.210000e+02</td>\n      <td>3.230000e+02</td>\n      <td>5.210000e+02</td>\n      <td>7.590000e+02</td>\n    </tr>\n  </tbody>\n</table>\n</div>"
     },
     "execution_count": 37,
     "metadata": {},
     "output_type": "execute_result"
    }
   ],
   "source": [
    "df_crime.describe().transpose()"
   ]
  },
  {
   "cell_type": "markdown",
   "metadata": {},
   "source": [
    "Wat kunnen afleiden uit de volgende tabel:\n",
    "- Er zijn **454540** incident meldingen geregisteerd."
   ]
  },
  {
   "cell_type": "markdown",
   "source": [
    "Om er zeker van te zijn dat onze data compleet is, kijken we of er kolommen zijn waarvan we verwachten dat ze data bevatten, maar dit niet doen."
   ],
   "metadata": {
    "collapsed": false,
    "pycharm": {
     "name": "#%% md\n"
    }
   }
  },
  {
   "cell_type": "code",
   "execution_count": 38,
   "outputs": [
    {
     "data": {
      "text/plain": "INCIDENT_ID                    0\nOFFENSE_ID                     0\nOFFENSE_CODE                   0\nOFFENSE_CODE_EXTENSION         0\nOFFENSE_TYPE_ID                0\nOFFENSE_CATEGORY_ID            0\nFIRST_OCCURRENCE_DATE          0\nLAST_OCCURRENCE_DATE      302422\nREPORTED_DATE                  0\nINCIDENT_ADDRESS           40169\nGEO_X                       3933\nGEO_Y                       3933\nGEO_LON                     3934\nGEO_LAT                     3934\nDISTRICT_ID                    1\nPRECINCT_ID                    1\nNEIGHBORHOOD_ID                1\nIS_CRIME                       0\nIS_TRAFFIC                     0\ndtype: int64"
     },
     "execution_count": 38,
     "metadata": {},
     "output_type": "execute_result"
    }
   ],
   "source": [
    "df_crime.isna().sum()"
   ],
   "metadata": {
    "collapsed": false,
    "pycharm": {
     "name": "#%%\n"
    }
   }
  },
  {
   "cell_type": "markdown",
   "source": [
    "Opvallend hieraan is dat er een enkele rij is waarvan de gegevens over o.a. de wijk missen. De rest van de missende waardes kunnen logisch worden verklaard. Zo kunnen er adressen en exacte locaties missen i.v.m. privacy. Verkeersincidenten bijvoorbeeld hoeven niet op een addres hebben plaatsgevonden. Dus ook daar is het logisch dat er waardes missen."
   ],
   "metadata": {
    "collapsed": false,
    "pycharm": {
     "name": "#%% md\n"
    }
   }
  },
  {
   "cell_type": "code",
   "execution_count": 39,
   "outputs": [
    {
     "data": {
      "text/plain": "        INCIDENT_ID         OFFENSE_ID  OFFENSE_CODE  OFFENSE_CODE_EXTENSION  \\\n436452  20208052103  20208052103544100          5441                       0   \n\n         OFFENSE_TYPE_ID OFFENSE_CATEGORY_ID FIRST_OCCURRENCE_DATE  \\\n436452  traffic-accident    traffic-accident   2020-12-04 11:00:00   \n\n       LAST_OCCURRENCE_DATE       REPORTED_DATE              INCIDENT_ADDRESS  \\\n436452                  NaT 2020-12-07 15:59:00  8400  PENA BLVD  EAST GARAGE   \n\n             GEO_X        GEO_Y  GEO_LON  GEO_LAT  DISTRICT_ID  PRECINCT_ID  \\\n436452  39847582.0  104670735.0      NaN      NaN          NaN          NaN   \n\n       NEIGHBORHOOD_ID  IS_CRIME  IS_TRAFFIC  \n436452             NaN     False        True  ",
      "text/html": "<div>\n<style scoped>\n    .dataframe tbody tr th:only-of-type {\n        vertical-align: middle;\n    }\n\n    .dataframe tbody tr th {\n        vertical-align: top;\n    }\n\n    .dataframe thead th {\n        text-align: right;\n    }\n</style>\n<table border=\"1\" class=\"dataframe\">\n  <thead>\n    <tr style=\"text-align: right;\">\n      <th></th>\n      <th>INCIDENT_ID</th>\n      <th>OFFENSE_ID</th>\n      <th>OFFENSE_CODE</th>\n      <th>OFFENSE_CODE_EXTENSION</th>\n      <th>OFFENSE_TYPE_ID</th>\n      <th>OFFENSE_CATEGORY_ID</th>\n      <th>FIRST_OCCURRENCE_DATE</th>\n      <th>LAST_OCCURRENCE_DATE</th>\n      <th>REPORTED_DATE</th>\n      <th>INCIDENT_ADDRESS</th>\n      <th>GEO_X</th>\n      <th>GEO_Y</th>\n      <th>GEO_LON</th>\n      <th>GEO_LAT</th>\n      <th>DISTRICT_ID</th>\n      <th>PRECINCT_ID</th>\n      <th>NEIGHBORHOOD_ID</th>\n      <th>IS_CRIME</th>\n      <th>IS_TRAFFIC</th>\n    </tr>\n  </thead>\n  <tbody>\n    <tr>\n      <th>436452</th>\n      <td>20208052103</td>\n      <td>20208052103544100</td>\n      <td>5441</td>\n      <td>0</td>\n      <td>traffic-accident</td>\n      <td>traffic-accident</td>\n      <td>2020-12-04 11:00:00</td>\n      <td>NaT</td>\n      <td>2020-12-07 15:59:00</td>\n      <td>8400  PENA BLVD  EAST GARAGE</td>\n      <td>39847582.0</td>\n      <td>104670735.0</td>\n      <td>NaN</td>\n      <td>NaN</td>\n      <td>NaN</td>\n      <td>NaN</td>\n      <td>NaN</td>\n      <td>False</td>\n      <td>True</td>\n    </tr>\n  </tbody>\n</table>\n</div>"
     },
     "execution_count": 39,
     "metadata": {},
     "output_type": "execute_result"
    }
   ],
   "source": [
    "df_crime[df_crime[\"NEIGHBORHOOD_ID\"].isna()]"
   ],
   "metadata": {
    "collapsed": false,
    "pycharm": {
     "name": "#%%\n"
    }
   }
  },
  {
   "cell_type": "markdown",
   "metadata": {},
   "source": [
    "Uit nadere inspectie blijkt dat incident met ID 20208052103 de rij is met de o.a. missende wijk. Omdat het niet mogelijk is om alle missende gegevens te achterhalen, zullen we dit incident verwijderen uit de dataset in de Data Preparation fase.\n",
    "\n",
    "### Explore data\n",
    "\n",
    "Om een eerste indruk te krijgen van de dataset, kijken we eens naar de totale hoeveelheid incidenten per type misdaad."
   ]
  },
  {
   "cell_type": "code",
   "execution_count": 40,
   "metadata": {},
   "outputs": [
    {
     "data": {
      "text/plain": "<AxesSubplot:>"
     },
     "execution_count": 40,
     "metadata": {},
     "output_type": "execute_result"
    },
    {
     "data": {
      "text/plain": "<Figure size 720x480 with 1 Axes>",
      "image/png": "[encoded data removed]"
     },
     "metadata": {},
     "output_type": "display_data"
    }
   ],
   "source": [
    "df_crime[\"OFFENSE_CATEGORY_ID\"].value_counts().plot.bar()"
   ]
  },
  {
   "cell_type": "markdown",
   "metadata": {},
   "source": [
    "Hierin valt op dat het overgrote gedeelte van de incidenten bestaat uit verkeersongelukken. Daarnaast past ook een groot gedeelte van de incidenten niet binnen een algemene categorie. Tevens wordt er weinig moord gepleegd en wordt er weinig brand gesticht.\n",
    "\n",
    "Volgens [denvergov.org](https://web.archive.org/web/20150218132558/http://www.denvergov.org/denvermaps/documents/citywide/Neighborhoods.pdf) bestaat Denver uit totaal 78 verschillende wijken."
   ]
  },
  {
   "cell_type": "code",
   "execution_count": 41,
   "outputs": [
    {
     "data": {
      "text/plain": "80"
     },
     "execution_count": 41,
     "metadata": {},
     "output_type": "execute_result"
    }
   ],
   "source": [
    "len(df_crime[\"NEIGHBORHOOD_ID\"].unique())"
   ],
   "metadata": {
    "collapsed": false,
    "pycharm": {
     "name": "#%%\n"
    }
   }
  },
  {
   "cell_type": "markdown",
   "source": [
    "Toch bestaat de dataset uit 80 verschillende wijken. Dit valt er verklaren op basis van een naamsverandering (Stapleton naar Central Park) en de NaN-rij.\n",
    "\n",
    "# Data Preparation\n",
    "\n",
    "## Select Data\n",
    "Voor job story twee maken we gebruik van de volgende kolommen uit het bestand “crime.csv”.\n",
    "\n",
    "-\tINCIDENT_ID\n",
    "-\tOFFENSE_CATEGORY_ID\n",
    "-\tFIRST_OCCURRENCE_DATE\n",
    "-\tNEIGHBORHOOD_ID\n",
    "\n",
    "Om het aantal misdaden te meten per wijk moeten er een aantal kolommen worden geselecteerd. De incidenten worden gemeten met het ‘INCIDENT_ID’. Voor de categorie is gekozen voor de kolomnaam “OFFENSE_CATEGORY_ID”, omdat deze kolom de misdaad verdeeld in een aantal globale categorieën. Voor de datum is er gekozen voor de “FIRST_OCCURRENCE_DATE”, dat is de tijd waarop het incident plaatsvindt. Voor de datum pakken we alle incidenten van 2020.\n",
    "\n",
    "Het vliegveld word buiten wegen gelaten, omdat het vanzelfsprekend is dat daar de meeste incidenten plaatsvinden. Door het vliegveld bij de wijken weg te laten krijgt de gemeente een goed beeld van de wijken waar de meeste incidenten plaatsvinden."
   ],
   "metadata": {
    "collapsed": false,
    "pycharm": {
     "name": "#%% md\n"
    }
   }
  },
  {
   "cell_type": "code",
   "execution_count": 42,
   "outputs": [],
   "source": [
    "# 'dia' staat voor 'Denver International Airport'\n",
    "df_crime = df_crime[df_crime[\"NEIGHBORHOOD_ID\"] != \"dia\"]\n",
    "\n",
    "# Alleen de data van 2020\n",
    "df_crime = df_crime[df_crime[\"FIRST_OCCURRENCE_DATE\"].dt.year == 2020]"
   ],
   "metadata": {
    "collapsed": false,
    "pycharm": {
     "name": "#%%\n"
    }
   }
  },
  {
   "cell_type": "markdown",
   "source": [
    "Een wijk in Denver genaamd Central Park heette in eerste instantie Stapleton. Door deze naamsverandering wordt er dus naar dezelfde wijk verwezen onder twee verschillende namen. Er is gekozen om alle verwijzingen naar de oude naam (Stapleton) om te zetten naar de nieuwe naam.\n",
    "\n",
    "Ook is uit de Data Description fase gebleken dat er een enkele rij is waarbij o.a. gegevens over de wijk waar het incident heeft plaatsgevonden mist. Deze rij is dan ook onbruikbaar en zal achterwege worden gelaten.\n",
    "\n",
    "## Clean data"
   ],
   "metadata": {
    "collapsed": false,
    "pycharm": {
     "name": "#%% md\n"
    }
   }
  },
  {
   "cell_type": "code",
   "execution_count": 43,
   "outputs": [],
   "source": [
    "# Doorvoeren naamsverandering van de wij Stapleton naar Central Park\n",
    "df_crime[\"NEIGHBORHOOD_ID\"] = df_crime[\"NEIGHBORHOOD_ID\"].replace(\"stapleton\", \"central-park\")\n",
    "\n",
    "# Verwijder de rij waarbij o.a. de wijk niet bekend is\n",
    "df_crime = df_crime.dropna(subset=[\"NEIGHBORHOOD_ID\"])"
   ],
   "metadata": {
    "collapsed": false,
    "pycharm": {
     "name": "#%%\n"
    }
   }
  },
  {
   "cell_type": "markdown",
   "source": [
    "## Integrate Data\n",
    "\n",
    "Om een juist beeld te krijgen van de verdeling van de misdaden in Denver, moet er rekening gehouden worden met de hoeveelheid mensen die wonen in een gegeven wijk. Het zou immers logisch zijn dat een wijk met meer inwoners meer incidenten van, bijvoorbeeld, huiselijk geweld heeft.\n",
    "\n",
    "De Denver crime dataset bevat geen gevens over de hoeveelheid inwoners van een wijk op het moment dat een incident plaatsvond. In dit verslag wordt er alleen gekeken naar de gevens van 2020, dus hiervan hebben wij alleen de populatie nodig.\n",
    "\n",
    "Helaas was de meest recente data die wij konden vinden afkomstig uit 2010. Om toch enigszins rekening te houden met een groei in populatie is er voor gekozen om een groeifactor te berekenen van de populatie in 2010 ten opzichte van die in 2020. Deze is vervolgens toegepast op de gegevens uit 2010."
   ],
   "metadata": {
    "collapsed": false,
    "pycharm": {
     "name": "#%% md\n"
    }
   }
  },
  {
   "cell_type": "code",
   "execution_count": 44,
   "outputs": [],
   "source": [
    "# Inlezen van de populatie dataset\n",
    "df_population = pd.read_csv(\"census_neighborhood_demographics_2010.csv\", dtype={\n",
    "    \"POPULATION_2010\": \"int64\"\n",
    "})\n",
    "\n",
    "# Omtoveren van namen naar IDs overeenkomend met de Denver crime dataset\n",
    "df_population[\"NEIGHBORHOOD_ID\"] = df_population[\"NBRHD_NAME\"].replace({\n",
    "    \"Cory - Merrill\": \"Cory Merrill\",\n",
    "    \"Stapleton\": \"Central Park\",\n",
    "    \"Gateway / Green Valley Ranch\": \"Gateway Green Valley Ranch\",\n",
    "    \"College View / South Platte\": \"College View South Platte\"\n",
    "}).apply(lambda x: x.lower().replace(\" \", \"-\"))\n",
    "\n",
    "# De populatie dataset bevat vervelende opmaak die het veranderen tot IDs hindert\n",
    "df_population[\"NBRHD_NAME\"] = df_population[\"NBRHD_NAME\"].replace({\n",
    "    \"Stapleton\": \"Central Park\"\n",
    "}).replace(\"/\", \"-\", regex=True)\n",
    "\n",
    "# Source: https://worldpopulationreview.com/us-cities/denver-co-population\n",
    "population_2020 = 738_200\n",
    "population_2010 = df_population[\"POPULATION_2010\"].sum()\n",
    "population_growth_factor = population_2020 / population_2010\n",
    "\n",
    "df_population[\"POPULATION_2020\"] = (df_population[\"POPULATION_2010\"] * population_growth_factor).round()\n",
    "\n",
    "population_lookup = dict(df_population[[\"NBRHD_NAME\", \"POPULATION_2020\"]].values)\n",
    "\n",
    "df_crime = df_crime.merge(df_population[[\"NEIGHBORHOOD_ID\", \"NBRHD_NAME\"]])\n",
    "df_crime.rename(columns={\n",
    "    \"NBRHD_NAME\": \"NEIGHBORHOOD_NAME\"\n",
    "}, inplace=True)"
   ],
   "metadata": {
    "collapsed": false,
    "pycharm": {
     "name": "#%%\n"
    }
   }
  },
  {
   "cell_type": "markdown",
   "metadata": {},
   "source": [
    "# Modeling\n",
    "\n",
    "Om voor de gemeente visueel te krijgen hoeveel misdaden per wijk er hebben plaatsgevonden in 2020, wordt er gebruik gemaakt van een choropletenkaart. Hierop is te zien hoe vaak de misdaad voorkomt per duizend inwoners voor een gegeven wijk. Ook is er voor iedere type misdaad een staafdiagram gemaakt met daarin de top 10 wijken per type misdaad."
   ]
  },
  {
   "cell_type": "code",
   "execution_count": 45,
   "metadata": {},
   "outputs": [],
   "source": [
    "# Dit zijn de grenzen van de wijken\n",
    "with open(\"denver-statistical-neighborhoods.geojson\") as geo:\n",
    "    neighborhoods = json.load(geo)\n",
    "\n",
    "for name, group in df_crime.groupby(\"OFFENSE_CATEGORY_ID\"):\n",
    "    crimes_per_neighborhood = group.groupby(\"NEIGHBORHOOD_NAME\")\\\n",
    "        [\"INCIDENT_ID\"].count()\\\n",
    "        .reset_index()\n",
    "\n",
    "    crimes_per_neighborhood[\"POPULATION\"] = crimes_per_neighborhood[\"NEIGHBORHOOD_NAME\"].apply(lambda x: population_lookup[x] / 1000)\n",
    "\n",
    "    crimes_per_neighborhood[\"OCCURRENCE\"] = crimes_per_neighborhood[\"INCIDENT_ID\"] / crimes_per_neighborhood[\"POPULATION\"]\n",
    "\n",
    "    # Lege map met Denver als locatie\n",
    "    m = folium.Map(location=[39.7392, -104.9903], zoom_start=11)\n",
    "\n",
    "    # Toevoegen van de gekleurde blokjes\n",
    "    folium.Choropleth(\n",
    "        geo_data=neighborhoods,\n",
    "        name=\"choropleth\",\n",
    "        data=crimes_per_neighborhood,\n",
    "        columns=[\"NEIGHBORHOOD_NAME\", \"OCCURRENCE\"],\n",
    "        key_on=\"properties.nbhd_name\",\n",
    "        fill_color=\"RdPu\",\n",
    "        fill_opacity=0.7,\n",
    "        line_opacity=0.2,\n",
    "        nan_fill_opacity=0.2,\n",
    "        legend_name=\"Hoeveelheid {} incidenten per duizend inwoners (1000x)\".format(name),\n",
    "    ).add_to(m)\n",
    "\n",
    "    # Dit is de style van de overlay zelf\n",
    "    style_function = lambda x: {\n",
    "        'fillOpacity': 0.0,\n",
    "        'weight': 0.0\n",
    "    }\n",
    "\n",
    "    # Dit is de style als je er met je muis overheen gaat\n",
    "    highlight_function = lambda x: {\n",
    "        'fillColor': '#000000',\n",
    "        'color':'#000000',\n",
    "        'fillOpacity': 0.50,\n",
    "        'weight': 0.1\n",
    "    }\n",
    "\n",
    "    # Dit zorgt ervoor dat je de wijken kan uitlezen\n",
    "    overlay = folium.features.GeoJson(neighborhoods,\n",
    "        style_function=style_function,\n",
    "        highlight_function=highlight_function,\n",
    "        tooltip=folium.features.GeoJsonTooltip(\n",
    "            fields=['nbhd_name'],\n",
    "            aliases=['Neighborhood: '],\n",
    "            style=\"background: white; color: #1a1a1a;\"\n",
    "        )\n",
    "    )\n",
    "    m.add_child(overlay)\n",
    "    m.keep_in_front(overlay)\n",
    "    overlay.add_to(m)\n",
    "\n",
    "    m.save(\"models/\" + name + \".html\")\n",
    "\n",
    "    crimes_per_neighborhood = crimes_per_neighborhood.nlargest(10, \"OCCURRENCE\")\n",
    "    g = sns.barplot(\n",
    "        data=crimes_per_neighborhood,\n",
    "        x=\"NEIGHBORHOOD_NAME\",\n",
    "        y=\"OCCURRENCE\"\n",
    "    )\n",
    "    g.set(\n",
    "        title=\"Hoeveelheid \" + name.replace(\"-\", \" \") + \" incidenten\",\n",
    "        xlabel=\"Wijk\",\n",
    "        ylabel=\"Misdaden per duizend inwoners (1000x)\"\n",
    "    )\n",
    "    plt.xticks(rotation=90)\n",
    "    g.figure.savefig(\"models/\" + name + \".png\", bbox_inches='tight')\n",
    "    plt.close()"
   ]
  },
  {
   "cell_type": "markdown",
   "metadata": {
    "pycharm": {
     "name": "#%% md\n"
    }
   },
   "source": [
    "# Evaluation\n",
    "\n",
    "In dit hoofdstuk worden alleen het type misdaden behandeld waarin zich een interessant patroon voortdoet.\n",
    "\n",
    "## Autodiefstal\n",
    "\n",
    "Op de kaart van autodiefstal valt een patroon te zien: de wijken waardoor de snelwegen lopen is het aantal gerapporteerde autodiefstallen hoger dan in andere wijken.\n",
    "\n",
    "De kaart zelf zegt weinig tot niets over waar de auto's worden gestolen. Het is dan ook niet mogelijk om te zien waar de auto's worden gestolen, dus deze kaart kan niet preventief worden ingezet.\n",
    "\n",
    "Door meer toezicht op de snelwegen te hebben, kunnen autodiefstallen beter worden gesignaleerd.\n",
    "\n",
    "## Drugs- en alcoholincidenten\n",
    "\n",
    "In het midden van Denver valt er een cluster te zien bestaande uit Civic Center, Auraria en CBD (Central Business District) waar de hoeveelheid drugs- en alcoholincidenten relatief hoog is, maar dit valt makkelijk toe te wijden aan de relatief lage populatie van Civic Center (~2000) en Auraria (~900). Daarnaast is het Central Business District hoogstwaarschijnlijk een populair uitgaansgebied, waardoor het logisch is dat dit zorgt voor een hogere concentratie van dit type misdaad.\n",
    "\n",
    "De enige uitzondering hierop is Overland met ongeveer drieduizend inwoners. Dit is namelijk een buitenwijk en kan daarom niet worden verklaard op dezelfde manier als o.a. Civic Center.\n",
    "\n",
    "Het zou dus kunnen lonen op meer aandacht aan deze wijk te besteden op het gebied drugsmisbruik.\n",
    "\n",
    "## Brandstichting en moord\n",
    "\n",
    "Doordat brandstichting en moord zich weinig voortdoen, is het eigenlijk niet mogelijk om hier conclusies aan te verbinden. Als er bijvoorbeeld twee moorden worden gepleegd in een wijk met relatief weinig inwoners, zal deze wijk eruit springen ondanks dat het toeval zou kunnen zijn.\n",
    "\n",
    "Om van deze type misdaden een beter beeld te krijgen, zou het beter zijn om te kijken naar hoe vaak deze voorkomen over de jaren heen. Als dit aantal consistent hoog is, kan er pas een conclusie worden getrokken."
   ]
  }
 ],
 "metadata": {
  "kernelspec": {
   "display_name": "Python 3",
   "language": "python",
   "name": "python3"
  },
  "language_info": {
   "codemirror_mode": {
    "name": "ipython",
    "version": 3
   },
   "file_extension": ".py",
   "mimetype": "text/x-python",
   "name": "python",
   "nbconvert_exporter": "python",
   "pygments_lexer": "ipython3",
   "version": "3.8.5"
  }
 },
 "nbformat": 4,
 "nbformat_minor": 4
}